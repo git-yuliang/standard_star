{
 "cells": [
  {
   "cell_type": "code",
   "execution_count": 1,
   "id": "68807762",
   "metadata": {},
   "outputs": [
    {
     "name": "stderr",
     "output_type": "stream",
     "text": [
      "WARNING: AstropyDeprecationWarning: The private astropy._erfa module has been made into its own package, pyerfa, which is a dependency of astropy and can be imported directly using \"import erfa\" [astropy._erfa]\n",
      "WARNING: Can't import specreduce_data package. Falling back to downloading data... [specreduce.calibration_data]\n"
     ]
    }
   ],
   "source": [
    "# import matplotlib.pyplot as plt\n",
    "# from specreduce.calibration_data import load_MAST_calspec"
   ]
  },
  {
   "cell_type": "code",
   "execution_count": 2,
   "id": "fdcf30a2",
   "metadata": {},
   "outputs": [
    {
     "name": "stderr",
     "output_type": "stream",
     "text": [
      "WARNING: Downloading of agk_81d266_stisnic_007.fits failed: <urlopen error timed out> [specreduce.calibration_data]\n"
     ]
    },
    {
     "ename": "AttributeError",
     "evalue": "'NoneType' object has no attribute 'spectral_axis'",
     "output_type": "error",
     "traceback": [
      "\u001b[1;31m---------------------------------------------------------------------------\u001b[0m",
      "\u001b[1;31mAttributeError\u001b[0m                            Traceback (most recent call last)",
      "\u001b[1;32m~\\AppData\\Local\\Temp\\ipykernel_61288\\990722743.py\u001b[0m in \u001b[0;36m<module>\u001b[1;34m\u001b[0m\n\u001b[0;32m      2\u001b[0m \u001b[1;33m\u001b[0m\u001b[0m\n\u001b[0;32m      3\u001b[0m \u001b[0mfig\u001b[0m\u001b[1;33m,\u001b[0m \u001b[0max\u001b[0m \u001b[1;33m=\u001b[0m \u001b[0mplt\u001b[0m\u001b[1;33m.\u001b[0m\u001b[0msubplots\u001b[0m\u001b[1;33m(\u001b[0m\u001b[1;33m)\u001b[0m\u001b[1;33m\u001b[0m\u001b[1;33m\u001b[0m\u001b[0m\n\u001b[1;32m----> 4\u001b[1;33m \u001b[0max\u001b[0m\u001b[1;33m.\u001b[0m\u001b[0mstep\u001b[0m\u001b[1;33m(\u001b[0m\u001b[0mspec\u001b[0m\u001b[1;33m.\u001b[0m\u001b[0mspectral_axis\u001b[0m\u001b[1;33m,\u001b[0m \u001b[0mspec\u001b[0m\u001b[1;33m.\u001b[0m\u001b[0mflux\u001b[0m\u001b[1;33m,\u001b[0m \u001b[0mwhere\u001b[0m\u001b[1;33m=\u001b[0m\u001b[1;34m\"mid\"\u001b[0m\u001b[1;33m)\u001b[0m\u001b[1;33m\u001b[0m\u001b[1;33m\u001b[0m\u001b[0m\n\u001b[0m\u001b[0;32m      5\u001b[0m \u001b[0max\u001b[0m\u001b[1;33m.\u001b[0m\u001b[0mset_yscale\u001b[0m\u001b[1;33m(\u001b[0m\u001b[1;34m'log'\u001b[0m\u001b[1;33m)\u001b[0m\u001b[1;33m\u001b[0m\u001b[1;33m\u001b[0m\u001b[0m\n\u001b[0;32m      6\u001b[0m \u001b[0max\u001b[0m\u001b[1;33m.\u001b[0m\u001b[0mset_xlabel\u001b[0m\u001b[1;33m(\u001b[0m\u001b[1;34mf\"Wavelength ({spec.spectral_axis.unit})\"\u001b[0m\u001b[1;33m)\u001b[0m\u001b[1;33m\u001b[0m\u001b[1;33m\u001b[0m\u001b[0m\n",
      "\u001b[1;31mAttributeError\u001b[0m: 'NoneType' object has no attribute 'spectral_axis'"
     ]
    },
    {
     "data": {
      "image/png": "[encoded data removed]",
      "text/plain": [
       "<Figure size 432x288 with 1 Axes>"
      ]
     },
     "metadata": {
      "needs_background": "light"
     },
     "output_type": "display_data"
    }
   ],
   "source": [
    "# spec = load_MAST_calspec(\"agk_81d266_stisnic_007.fits\")\n",
    "\n",
    "# fig, ax = plt.subplots()\n",
    "# ax.step(spec.spectral_axis, spec.flux, where=\"mid\")\n",
    "# ax.set_yscale('log')\n",
    "# ax.set_xlabel(f\"Wavelength ({spec.spectral_axis.unit})\")\n",
    "# ax.set_ylabel(f\"Flux ({spec.flux.unit})\")\n",
    "# ax.set_title(\"AGK+81 266\")\n",
    "# fig.show()"
   ]
  },
  {
   "cell_type": "code",
   "execution_count": 31,
   "id": "6e0dee5f",
   "metadata": {},
   "outputs": [
    {
     "name": "stdout",
     "output_type": "stream",
     "text": [
      "           Star       RA2(J2000)  DEC(J2000) Type  (U-B)  (B-V)       V  \\\n",
      "0    CD -34 241         00:41:47  ’-33:39:09    f -0.065  0.478  11.229   \n",
      "1      LTT 1020  01:54:49.700000   -27:28:29    g -0.186  0.557  11.522   \n",
      "2         EG 21  03:10:30.400000   -68:36:05   DA -0.661  0.039  11.379   \n",
      "3      LTT 1788  03:48:22.200000   -39:08:35    f -0.281  0.469  13.155   \n",
      "4      LTT 2415  05:56:24.200000   -27:51:26  ... -0.215    0.4  12.214   \n",
      "5   Hiltner 600  06:45:13.500000   +02:08:15   B1 -0.574  0.179  10.441   \n",
      "6      LTT 3218  08:41:32.400000   -32:56:33   DA -0.574   0.22  11.858   \n",
      "7      LTT 3864  10:32:13.800000   -35:37:42    f -0.167  0.495  12.171   \n",
      "8      LTT 4364  11:45:42.900000   -64:50:29   C2 -0.664  0.162  11.504   \n",
      "9      Feige 56  12:06:47.300000   +11:40:13  B5p    ...    ...     ...   \n",
      "10     LTT 4816  12:38:50.700000   -49:47:58   DA -0.656  0.166  13.794   \n",
      "11  CD -32 9927  14:11:46.300000   -33:03:15   A0    ...    ...     ...   \n",
      "12     LTT 6248  15:38:59.800000   -28:35:34    a  0.029  0.491  11.797   \n",
      "13       EG 274  16:23:33.700000   -39:13:48   DA -0.969 -0.144  11.029   \n",
      "14     LTT 7379  18:36:26.200000   -44:18:37   G0  -0.02  0.605  10.225   \n",
      "15     LTT 7987  20:10:57.100000   -30:13:03   DA  -0.67  0.046   12.23   \n",
      "16     LTT 9239  22:52:40.900000   -20:35:27    f  -0.11  0.609  12.068   \n",
      "17    Feige 110  23:19:58.300000   -05:09:56  sd0    ...    ...     ...   \n",
      "18     LTT 9491  23:19:35.200000   -17:05:28   DC -0.843  0.007  14.112   \n",
      "\n",
      "   (V-RKC) (R-I)KC  \n",
      "0    0.295   0.289  \n",
      "1    0.361   0.364  \n",
      "2   -0.093  -0.064  \n",
      "3    0.317   0.332  \n",
      "4    0.267   0.293  \n",
      "5     0.12    0.14  \n",
      "6    0.096   0.111  \n",
      "7    0.323   0.329  \n",
      "8    0.173   0.127  \n",
      "9      ...     ...  \n",
      "10   0.013   0.027  \n",
      "11     ...     ...  \n",
      "12   0.319   0.345  \n",
      "13  -0.093  -0.096  \n",
      "14   0.366   0.366  \n",
      "15  -0.062  -0.078  \n",
      "16   0.397   0.372  \n",
      "17     ...     ...  \n",
      "18   0.045   0.031  \n"
     ]
    },
    {
     "data": {
      "text/plain": [
       "(19, 9)"
      ]
     },
     "execution_count": 31,
     "metadata": {},
     "output_type": "execute_result"
    }
   ],
   "source": [
    "import pandas as pd\n",
    "import matplotlib.pyplot as plt\n",
    "\n",
    "df=pd.read_excel(r'C:\\Users\\DELL\\OneDrive - EDU A1\\git-code\\github\\spec_cal\\src\\spec_cal\\refdata\\1d_radec\\Hamuy1992/Hamuy1992.xlsx')\n",
    "\n",
    "print(df)\n",
    "df.shape"
   ]
  },
  {
   "cell_type": "code",
   "execution_count": 23,
   "id": "8b2b3afa",
   "metadata": {},
   "outputs": [
    {
     "name": "stdout",
     "output_type": "stream",
     "text": [
      "CD -34 241\n",
      "[['CD -34 241' datetime.time(0, 41, 47) '’-33:39:09' 'f' -0.065 0.478\n",
      "  11.229 0.295 0.289]]\n",
      "[datetime.time(0, 41, 47) datetime.time(1, 54, 49, 700000)\n",
      " datetime.time(3, 10, 30, 400000) datetime.time(3, 48, 22, 200000)\n",
      " datetime.time(5, 56, 24, 200000) datetime.time(6, 45, 13, 500000)\n",
      " datetime.time(8, 41, 32, 400000) datetime.time(10, 32, 13, 800000)\n",
      " datetime.time(11, 45, 42, 900000) datetime.time(12, 6, 47, 300000)\n",
      " datetime.time(12, 38, 50, 700000) datetime.time(14, 11, 46, 300000)\n",
      " datetime.time(15, 38, 59, 800000) datetime.time(16, 23, 33, 700000)\n",
      " datetime.time(18, 36, 26, 200000) datetime.time(20, 10, 57, 100000)\n",
      " datetime.time(22, 52, 40, 900000) datetime.time(23, 19, 58, 300000)\n",
      " datetime.time(23, 19, 35, 200000)]\n"
     ]
    }
   ],
   "source": [
    "df.shape\n",
    "\n",
    "print(df.iat[0,0])\n",
    "\n",
    "row_data0 = df.loc[[0]].values\n",
    "print(row_data0)\n",
    "\n",
    "col_data0 = df.iloc[:,1].values\n",
    "print(col_data0)"
   ]
  },
  {
   "cell_type": "code",
   "execution_count": 55,
   "id": "46e28087",
   "metadata": {},
   "outputs": [
    {
     "name": "stdout",
     "output_type": "stream",
     "text": [
      "+02:08:15\n"
     ]
    },
    {
     "data": {
      "text/plain": [
       "6"
      ]
     },
     "metadata": {},
     "output_type": "display_data"
    },
    {
     "data": {
      "text/plain": [
       "45"
      ]
     },
     "metadata": {},
     "output_type": "display_data"
    },
    {
     "data": {
      "text/plain": [
       "13"
      ]
     },
     "metadata": {},
     "output_type": "display_data"
    },
    {
     "data": {
      "text/plain": [
       "500000"
      ]
     },
     "metadata": {},
     "output_type": "display_data"
    },
    {
     "name": "stdout",
     "output_type": "stream",
     "text": [
      "6.753611111111111\n",
      "decm is  2.1375\n"
     ]
    }
   ],
   "source": [
    "i = 5\n",
    "ra = df.iat[i,1]\n",
    "dec = df.iat[i,2]\n",
    "lb =  df.iat[i,0]\n",
    "\n",
    "print(dec)\n",
    "display(ra.hour,ra.minute,ra.second,ra.microsecond)\n",
    "ram =  ra.hour + ra.minute / 60 + ra.second/3600\n",
    "print(ram)\n",
    "\n",
    "dec[7:10]\n",
    "\n",
    "deg = int(dec[0:3])\n",
    "arcm = int(dec[4:6])\n",
    "arcs = int(dec[7:10])\n",
    "decm =  deg + arcm / 60 + arcs/3600\n",
    "print('decm is ',decm)"
   ]
  },
  {
   "cell_type": "code",
   "execution_count": 86,
   "id": "59a53da9",
   "metadata": {},
   "outputs": [
    {
     "data": {
      "text/plain": [
       "6"
      ]
     },
     "metadata": {},
     "output_type": "display_data"
    },
    {
     "data": {
      "text/plain": [
       "45"
      ]
     },
     "metadata": {},
     "output_type": "display_data"
    },
    {
     "data": {
      "text/plain": [
       "13"
      ]
     },
     "metadata": {},
     "output_type": "display_data"
    },
    {
     "data": {
      "text/plain": [
       "500000"
      ]
     },
     "metadata": {},
     "output_type": "display_data"
    },
    {
     "name": "stdout",
     "output_type": "stream",
     "text": [
      "ram,decm is  6.753611111111111 2.1375\n"
     ]
    },
    {
     "data": {
      "text/plain": [
       "<function __main__.shown_radec(ram, dem)>"
      ]
     },
     "execution_count": 86,
     "metadata": {},
     "output_type": "execute_result"
    }
   ],
   "source": [
    "def map(ra,dec):  # t2d: time to display ra map\n",
    "    display(ra.hour,ra.minute,ra.second,ra.microsecond)\n",
    "    ram =  ra.hour + ra.minute / 60 + ra.second/3600\n",
    "    deg = int(dec[0:3])\n",
    "    arcm = int(dec[4:6])\n",
    "    arcs = int(dec[7:10])\n",
    "    decm =  deg + arcm / 60 + arcs/3600\n",
    "    return ram,decm\n",
    "\n",
    "def shown_radec(ram,dem):\n",
    "    import matplotlib.pyplot as plt\n",
    "    plt.plot(ram,decm,'r*')\n",
    "    \n",
    "    \n",
    "ram,decm =map(ra,dec)# ramap\n",
    "\n",
    "print('ram,decm is ',ram,decm)\n",
    "\n",
    "# plt.figure(figsize=[12,4],num = 'position')\n",
    "# plt.plot(ram,decm,'r*', )\n",
    "# plt.title = (lb)\n",
    "# plt.legend\n",
    "# plt.xtitle = ('ra')\n",
    "# plt.ytitle = ('dec')\n",
    "# plt.show\n",
    "\n",
    "shown_radec"
   ]
  },
  {
   "cell_type": "code",
   "execution_count": 4,
   "id": "734df723",
   "metadata": {},
   "outputs": [
    {
     "ename": "NameError",
     "evalue": "name 'pd' is not defined",
     "output_type": "error",
     "traceback": [
      "\u001b[1;31m---------------------------------------------------------------------------\u001b[0m",
      "\u001b[1;31mNameError\u001b[0m                                 Traceback (most recent call last)",
      "\u001b[1;32m~\\AppData\\Local\\Temp\\ipykernel_65392\\1877413945.py\u001b[0m in \u001b[0;36m<module>\u001b[1;34m\u001b[0m\n\u001b[0;32m      1\u001b[0m \u001b[1;32mimport\u001b[0m \u001b[0mnumpy\u001b[0m \u001b[1;32mas\u001b[0m \u001b[0mnp\u001b[0m\u001b[1;33m\u001b[0m\u001b[1;33m\u001b[0m\u001b[0m\n\u001b[1;32m----> 2\u001b[1;33m \u001b[0mdd\u001b[0m \u001b[1;33m=\u001b[0m \u001b[0mpd\u001b[0m\u001b[1;33m.\u001b[0m\u001b[0mread_csv\u001b[0m\u001b[1;33m(\u001b[0m\u001b[1;34mr'C:\\Users\\DELL\\OneDrive - EDU A1\\git-code\\github\\spec_cal\\src\\refdata\\1d_sp\\Hamuy1992/cd32.dat'\u001b[0m\u001b[1;33m,\u001b[0m\u001b[0msep\u001b[0m\u001b[1;33m=\u001b[0m\u001b[1;34m'\\s+'\u001b[0m\u001b[1;33m)\u001b[0m\u001b[1;33m\u001b[0m\u001b[1;33m\u001b[0m\u001b[0m\n\u001b[0m\u001b[0;32m      3\u001b[0m \u001b[0mdd\u001b[0m\u001b[1;33m.\u001b[0m\u001b[0mshape\u001b[0m\u001b[1;33m\u001b[0m\u001b[1;33m\u001b[0m\u001b[0m\n",
      "\u001b[1;31mNameError\u001b[0m: name 'pd' is not defined"
     ]
    }
   ],
   "source": [
    "import numpy as np\n",
    "dd = pd.read_csv(r'C:\\Users\\DELL\\OneDrive - EDU A1\\git-code\\github\\spec_cal\\src\\refdata\\1d_sp\\Hamuy1992/cd32.dat',sep='\\s+')\n",
    "dd.shape"
   ]
  },
  {
   "cell_type": "code",
   "execution_count": 5,
   "id": "46c21e18",
   "metadata": {
    "scrolled": true
   },
   "outputs": [
    {
     "ename": "NameError",
     "evalue": "name 'dd' is not defined",
     "output_type": "error",
     "traceback": [
      "\u001b[1;31m---------------------------------------------------------------------------\u001b[0m",
      "\u001b[1;31mNameError\u001b[0m                                 Traceback (most recent call last)",
      "\u001b[1;32m~\\AppData\\Local\\Temp\\ipykernel_65392\\4071896209.py\u001b[0m in \u001b[0;36m<module>\u001b[1;34m\u001b[0m\n\u001b[1;32m----> 1\u001b[1;33m \u001b[0mrow_data0\u001b[0m \u001b[1;33m=\u001b[0m \u001b[0mdd\u001b[0m\u001b[1;33m.\u001b[0m\u001b[0mloc\u001b[0m\u001b[1;33m[\u001b[0m\u001b[1;33m[\u001b[0m\u001b[1;36m1\u001b[0m\u001b[1;33m]\u001b[0m\u001b[1;33m]\u001b[0m\u001b[1;33m.\u001b[0m\u001b[0mvalues\u001b[0m\u001b[1;33m\u001b[0m\u001b[1;33m\u001b[0m\u001b[0m\n\u001b[0m\u001b[0;32m      2\u001b[0m \u001b[0mprint\u001b[0m\u001b[1;33m(\u001b[0m\u001b[0mrow_data0\u001b[0m\u001b[1;33m)\u001b[0m\u001b[1;33m\u001b[0m\u001b[1;33m\u001b[0m\u001b[0m\n\u001b[0;32m      3\u001b[0m \u001b[0mcol_data0\u001b[0m \u001b[1;33m=\u001b[0m \u001b[0mdd\u001b[0m\u001b[1;33m[\u001b[0m\u001b[1;36m0\u001b[0m\u001b[1;33m]\u001b[0m\u001b[1;33m\u001b[0m\u001b[1;33m\u001b[0m\u001b[0m\n\u001b[0;32m      4\u001b[0m \u001b[0mcol_data1\u001b[0m \u001b[1;33m=\u001b[0m \u001b[0mdd\u001b[0m\u001b[1;33m[\u001b[0m\u001b[1;36m1\u001b[0m\u001b[1;33m]\u001b[0m\u001b[1;33m\u001b[0m\u001b[1;33m\u001b[0m\u001b[0m\n\u001b[0;32m      5\u001b[0m \u001b[1;31m# col_data1 = dd.iloc[:,1].values\u001b[0m\u001b[1;33m\u001b[0m\u001b[1;33m\u001b[0m\u001b[1;33m\u001b[0m\u001b[0m\n",
      "\u001b[1;31mNameError\u001b[0m: name 'dd' is not defined"
     ]
    }
   ],
   "source": [
    "row_data0 = dd.loc[[1]].values\n",
    "print(row_data0)\n",
    "col_data0 = dd[0]\n",
    "col_data1 = dd[1]\n",
    "# col_data1 = dd.iloc[:,1].values\n",
    "\n",
    "# col_data0 = dd.iloc[:,0].values\n",
    "plt.plot(col_data0,col_data1)"
   ]
  },
  {
   "cell_type": "code",
   "execution_count": 6,
   "id": "ef8b5a29",
   "metadata": {},
   "outputs": [
    {
     "ename": "SyntaxError",
     "evalue": "invalid syntax (3269511909.py, line 1)",
     "output_type": "error",
     "traceback": [
      "\u001b[1;36m  File \u001b[1;32m\"C:\\Users\\DELL\\AppData\\Local\\Temp\\ipykernel_55872\\3269511909.py\"\u001b[1;36m, line \u001b[1;32m1\u001b[0m\n\u001b[1;33m    import ifs-spec-cal\u001b[0m\n\u001b[1;37m              ^\u001b[0m\n\u001b[1;31mSyntaxError\u001b[0m\u001b[1;31m:\u001b[0m invalid syntax\n"
     ]
    }
   ],
   "source": [
    "import ifs-spec-cal\n",
    "#chili_config = default_sp()"
   ]
  },
  {
   "cell_type": "code",
   "execution_count": 2,
   "id": "1cf7a959",
   "metadata": {},
   "outputs": [
    {
     "ename": "ModuleNotFoundError",
     "evalue": "No module named 'cal_star'",
     "output_type": "error",
     "traceback": [
      "\u001b[1;31m---------------------------------------------------------------------------\u001b[0m",
      "\u001b[1;31mModuleNotFoundError\u001b[0m                       Traceback (most recent call last)",
      "\u001b[1;32m~\\AppData\\Local\\Temp\\ipykernel_48836\\4196777279.py\u001b[0m in \u001b[0;36m<module>\u001b[1;34m\u001b[0m\n\u001b[1;32m----> 1\u001b[1;33m \u001b[1;32mfrom\u001b[0m \u001b[0mcal_star\u001b[0m\u001b[1;33m.\u001b[0m\u001b[0msc_sp\u001b[0m \u001b[1;32mimport\u001b[0m \u001b[0mdefault_sp\u001b[0m\u001b[1;33m\u001b[0m\u001b[1;33m\u001b[0m\u001b[0m\n\u001b[0m",
      "\u001b[1;31mModuleNotFoundError\u001b[0m: No module named 'cal_star'"
     ]
    }
   ],
   "source": [
    "from cal_star.sc_sp import default_sp"
   ]
  },
  {
   "cell_type": "code",
   "execution_count": 3,
   "id": "2d2384a0",
   "metadata": {},
   "outputs": [
    {
     "ename": "ModuleNotFoundError",
     "evalue": "No module named 'cal_star'",
     "output_type": "error",
     "traceback": [
      "\u001b[1;31m---------------------------------------------------------------------------\u001b[0m",
      "\u001b[1;31mModuleNotFoundError\u001b[0m                       Traceback (most recent call last)",
      "\u001b[1;32m~\\AppData\\Local\\Temp\\ipykernel_48836\\3924672238.py\u001b[0m in \u001b[0;36m<module>\u001b[1;34m\u001b[0m\n\u001b[1;32m----> 1\u001b[1;33m \u001b[1;32mfrom\u001b[0m \u001b[0mcal_star\u001b[0m\u001b[1;33m.\u001b[0m\u001b[0mspec_cal\u001b[0m \u001b[1;32mimport\u001b[0m \u001b[0mspec_map\u001b[0m\u001b[1;33m\u001b[0m\u001b[1;33m\u001b[0m\u001b[0m\n\u001b[0m",
      "\u001b[1;31mModuleNotFoundError\u001b[0m: No module named 'cal_star'"
     ]
    }
   ],
   "source": [
    "from cal_star.spec_cal import spec_map"
   ]
  },
  {
   "cell_type": "code",
   "execution_count": 2,
   "id": "330321a7",
   "metadata": {},
   "outputs": [],
   "source": [
    "from chili_etc.sp.chili_config import build_default_calc"
   ]
  },
  {
   "cell_type": "code",
   "execution_count": null,
   "id": "2462e708",
   "metadata": {},
   "outputs": [],
   "source": []
  }
 ],
 "metadata": {
  "kernelspec": {
   "display_name": "Python 3 (ipykernel)",
   "language": "python",
   "name": "python3"
  },
  "language_info": {
   "codemirror_mode": {
    "name": "ipython",
    "version": 3
   },
   "file_extension": ".py",
   "mimetype": "text/x-python",
   "name": "python",
   "nbconvert_exporter": "python",
   "pygments_lexer": "ipython3",
   "version": "3.7.13"
  }
 },
 "nbformat": 4,
 "nbformat_minor": 5
}
