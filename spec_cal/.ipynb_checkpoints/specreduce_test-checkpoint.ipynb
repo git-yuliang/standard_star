{
 "cells": [
  {
   "cell_type": "code",
   "execution_count": 1,
   "id": "68807762",
   "metadata": {},
   "outputs": [],
   "source": [
    "# import matplotlib.pyplot as plt\n",
    "# from specreduce.calibration_data import load_MAST_calspec"
   ]
  },
  {
   "cell_type": "code",
   "execution_count": 2,
   "id": "fdcf30a2",
   "metadata": {},
   "outputs": [],
   "source": [
    "# spec = load_MAST_calspec(\"agk_81d266_stisnic_007.fits\")\n",
    "\n",
    "# fig, ax = plt.subplots()\n",
    "# ax.step(spec.spectral_axis, spec.flux, where=\"mid\")\n",
    "# ax.set_yscale('log')\n",
    "# ax.set_xlabel(f\"Wavelength ({spec.spectral_axis.unit})\")\n",
    "# ax.set_ylabel(f\"Flux ({spec.flux.unit})\")\n",
    "# ax.set_title(\"AGK+81 266\")\n",
    "# fig.show()"
   ]
  },
  {
   "cell_type": "code",
   "execution_count": 12,
   "id": "6e0dee5f",
   "metadata": {},
   "outputs": [
    {
     "name": "stdout",
     "output_type": "stream",
     "text": [
      "           Star       RA2(J2000)  DEC(J2000) Type  (U-B)  (B-V)       V  \\\n",
      "0    CD -34 241         00:41:47  ’-33:39:09    f -0.065  0.478  11.229   \n",
      "1      LTT 1020  01:54:49.700000   -27:28:29    g -0.186  0.557  11.522   \n",
      "2         EG 21  03:10:30.400000   -68:36:05   DA -0.661  0.039  11.379   \n",
      "3      LTT 1788  03:48:22.200000   -39:08:35    f -0.281  0.469  13.155   \n",
      "4      LTT 2415  05:56:24.200000   -27:51:26  ... -0.215    0.4  12.214   \n",
      "5   Hiltner 600  06:45:13.500000   +02:08:15   B1 -0.574  0.179  10.441   \n",
      "6      LTT 3218  08:41:32.400000   -32:56:33   DA -0.574   0.22  11.858   \n",
      "7      LTT 3864  10:32:13.800000   -35:37:42    f -0.167  0.495  12.171   \n",
      "8      LTT 4364  11:45:42.900000   -64:50:29   C2 -0.664  0.162  11.504   \n",
      "9      Feige 56  12:06:47.300000   +11:40:13  B5p    ...    ...     ...   \n",
      "10     LTT 4816  12:38:50.700000   -49:47:58   DA -0.656  0.166  13.794   \n",
      "11  CD -32 9927  14:11:46.300000   -33:03:15   A0    ...    ...     ...   \n",
      "12     LTT 6248  15:38:59.800000   -28:35:34    a  0.029  0.491  11.797   \n",
      "13       EG 274  16:23:33.700000   -39:13:48   DA -0.969 -0.144  11.029   \n",
      "14     LTT 7379  18:36:26.200000   -44:18:37   G0  -0.02  0.605  10.225   \n",
      "15     LTT 7987  20:10:57.100000   -30:13:03   DA  -0.67  0.046   12.23   \n",
      "16     LTT 9239  22:52:40.900000   -20:35:27    f  -0.11  0.609  12.068   \n",
      "17    Feige 110  23:19:58.300000   -05:09:56  sd0    ...    ...     ...   \n",
      "18     LTT 9491  23:19:35.200000   -17:05:28   DC -0.843  0.007  14.112   \n",
      "\n",
      "   (V-RKC) (R-I)KC  \n",
      "0    0.295   0.289  \n",
      "1    0.361   0.364  \n",
      "2   -0.093  -0.064  \n",
      "3    0.317   0.332  \n",
      "4    0.267   0.293  \n",
      "5     0.12    0.14  \n",
      "6    0.096   0.111  \n",
      "7    0.323   0.329  \n",
      "8    0.173   0.127  \n",
      "9      ...     ...  \n",
      "10   0.013   0.027  \n",
      "11     ...     ...  \n",
      "12   0.319   0.345  \n",
      "13  -0.093  -0.096  \n",
      "14   0.366   0.366  \n",
      "15  -0.062  -0.078  \n",
      "16   0.397   0.372  \n",
      "17     ...     ...  \n",
      "18   0.045   0.031  \n"
     ]
    },
    {
     "data": {
      "text/plain": [
       "(19, 9)"
      ]
     },
     "execution_count": 12,
     "metadata": {},
     "output_type": "execute_result"
    }
   ],
   "source": [
    "import pandas as pd\n",
    "import matplotlib.pyplot as plt\n",
    "\n",
    "df=pd.read_excel(r'C:\\Users\\DELL\\OneDrive - EDU A1\\git-code\\github\\spec_cal\\src\\spec_cal\\refdata\\1d_radec\\Hamuy1992/Hamuy1992.xlsx')\n",
    "\n",
    "print(df)\n",
    "df.shape"
   ]
  },
  {
   "cell_type": "code",
   "execution_count": 13,
   "id": "8b2b3afa",
   "metadata": {},
   "outputs": [
    {
     "name": "stdout",
     "output_type": "stream",
     "text": [
      "CD -34 241\n",
      "[['CD -34 241' datetime.time(0, 41, 47) '’-33:39:09' 'f' -0.065 0.478\n",
      "  11.229 0.295 0.289]]\n",
      "['CD -34 241' 'LTT 1020' 'EG 21' 'LTT 1788' 'LTT 2415' 'Hiltner 600'\n",
      " 'LTT 3218' 'LTT 3864' 'LTT 4364' 'Feige 56' 'LTT 4816' 'CD -32 9927'\n",
      " 'LTT 6248' 'EG 274' 'LTT 7379' 'LTT 7987' 'LTT 9239' 'Feige 110'\n",
      " 'LTT 9491']\n",
      "a1 =  19\n",
      "ba =  20\n"
     ]
    }
   ],
   "source": [
    "df.shape\n",
    "\n",
    "print(df.iat[0,0])\n",
    "\n",
    "row_data0 = df.loc[[0]].values\n",
    "print(row_data0)\n",
    "\n",
    "col_data0 = df.iloc[:,0].values\n",
    "print(col_data0)\n",
    "\n",
    "col_data0 = df.iloc[:,0].values\n",
    "a = col_data0.shape\n",
    "import functools\n",
    "a1 = functools.reduce(lambda sub, ele: sub * 10 + ele, a)\n",
    "print('a1 = ',a1)\n",
    "b = 20\n",
    "print('ba = ',b)\n",
    "\n"
   ]
  },
  {
   "cell_type": "code",
   "execution_count": 14,
   "id": "5d4df79d",
   "metadata": {},
   "outputs": [
    {
     "name": "stdout",
     "output_type": "stream",
     "text": [
      "0\n",
      "1\n",
      "2\n",
      "3\n",
      "4\n",
      "5\n",
      "6\n",
      "7\n",
      "8\n",
      "9\n",
      "10\n",
      "11\n",
      "12\n",
      "13\n",
      "14\n",
      "15\n",
      "16\n",
      "17\n",
      "18\n"
     ]
    }
   ],
   "source": [
    "for i in range(a1):\n",
    "    print(i)"
   ]
  },
  {
   "cell_type": "code",
   "execution_count": 15,
   "id": "71fbb4fd",
   "metadata": {},
   "outputs": [],
   "source": [
    "star = 'CD -34 241' \n",
    "col_data0 = col_data0.tolist()\n"
   ]
  },
  {
   "cell_type": "code",
   "execution_count": 16,
   "id": "a263d357",
   "metadata": {},
   "outputs": [
    {
     "data": {
      "text/plain": [
       "0"
      ]
     },
     "execution_count": 16,
     "metadata": {},
     "output_type": "execute_result"
    }
   ],
   "source": [
    "col_data0.index(star)"
   ]
  },
  {
   "cell_type": "code",
   "execution_count": 17,
   "id": "46e28087",
   "metadata": {},
   "outputs": [
    {
     "name": "stdout",
     "output_type": "stream",
     "text": [
      "+02:08:15\n"
     ]
    },
    {
     "data": {
      "text/plain": [
       "6"
      ]
     },
     "metadata": {},
     "output_type": "display_data"
    },
    {
     "data": {
      "text/plain": [
       "45"
      ]
     },
     "metadata": {},
     "output_type": "display_data"
    },
    {
     "data": {
      "text/plain": [
       "13"
      ]
     },
     "metadata": {},
     "output_type": "display_data"
    },
    {
     "data": {
      "text/plain": [
       "500000"
      ]
     },
     "metadata": {},
     "output_type": "display_data"
    },
    {
     "name": "stdout",
     "output_type": "stream",
     "text": [
      "6.753611111111111\n",
      "decm is  2.1375\n"
     ]
    }
   ],
   "source": [
    "i = 5\n",
    "ra = df.iat[i,1]\n",
    "dec = df.iat[i,2]\n",
    "lb =  df.iat[i,0]\n",
    "\n",
    "print(dec)\n",
    "display(ra.hour,ra.minute,ra.second,ra.microsecond)\n",
    "ram =  ra.hour + ra.minute / 60 + ra.second/3600\n",
    "print(ram)\n",
    "\n",
    "dec[7:10]\n",
    "\n",
    "deg = int(dec[0:3])\n",
    "arcm = int(dec[4:6])\n",
    "arcs = int(dec[7:10])\n",
    "decm =  deg + arcm / 60 + arcs/3600\n",
    "print('decm is ',decm)"
   ]
  },
  {
   "cell_type": "code",
   "execution_count": 18,
   "id": "59a53da9",
   "metadata": {},
   "outputs": [
    {
     "data": {
      "text/plain": [
       "6"
      ]
     },
     "metadata": {},
     "output_type": "display_data"
    },
    {
     "data": {
      "text/plain": [
       "45"
      ]
     },
     "metadata": {},
     "output_type": "display_data"
    },
    {
     "data": {
      "text/plain": [
       "13"
      ]
     },
     "metadata": {},
     "output_type": "display_data"
    },
    {
     "data": {
      "text/plain": [
       "500000"
      ]
     },
     "metadata": {},
     "output_type": "display_data"
    },
    {
     "name": "stdout",
     "output_type": "stream",
     "text": [
      "ram,decm is  6.753611111111111 2.1375\n"
     ]
    },
    {
     "data": {
      "text/plain": [
       "<function __main__.shown_radec(ram, dem)>"
      ]
     },
     "execution_count": 18,
     "metadata": {},
     "output_type": "execute_result"
    }
   ],
   "source": [
    "def map(ra,dec):  # t2d: time to display ra map\n",
    "    display(ra.hour,ra.minute,ra.second,ra.microsecond)\n",
    "    ram =  ra.hour + ra.minute / 60 + ra.second/3600\n",
    "    deg = int(dec[0:3])\n",
    "    arcm = int(dec[4:6])\n",
    "    arcs = int(dec[7:10])\n",
    "    decm =  deg + arcm / 60 + arcs/3600\n",
    "    return ram,decm\n",
    "\n",
    "def shown_radec(ram,dem):\n",
    "    import matplotlib.pyplot as plt\n",
    "    plt.plot(ram,decm,'r*')\n",
    "    \n",
    "    \n",
    "ram,decm =map(ra,dec)# ramap\n",
    "\n",
    "print('ram,decm is ',ram,decm)\n",
    "\n",
    "# plt.figure(figsize=[12,4],num = 'position')\n",
    "# plt.plot(ram,decm,'r*', )\n",
    "# plt.title = (lb)\n",
    "# plt.legend\n",
    "# plt.xtitle = ('ra')\n",
    "# plt.ytitle = ('dec')\n",
    "# plt.show\n",
    "\n",
    "shown_radec"
   ]
  },
  {
   "cell_type": "code",
   "execution_count": 28,
   "id": "734df723",
   "metadata": {},
   "outputs": [
    {
     "data": {
      "text/plain": [
       "(140, 2)"
      ]
     },
     "execution_count": 28,
     "metadata": {},
     "output_type": "execute_result"
    }
   ],
   "source": [
    "import numpy as np\n",
    "\n",
    "starlist = 'Hamuy1992'\n",
    "star = 'CD -34 241' \n",
    "\n",
    "\n",
    "dd = pd.read_csv(r'C:\\Users\\DELL\\OneDrive - EDU A1\\git-code\\github\\spec_cal\\src\\refdata\\1d_sp\\Hamuy1992/CD -34 241.dat',sep='\\s+')\n",
    "dd.shape"
   ]
  },
  {
   "cell_type": "code",
   "execution_count": 21,
   "id": "46c21e18",
   "metadata": {
    "scrolled": true
   },
   "outputs": [
    {
     "name": "stdout",
     "output_type": "stream",
     "text": [
      "[[3400.      12.606]]\n"
     ]
    },
    {
     "data": {
      "text/plain": [
       "[<matplotlib.lines.Line2D at 0x28f5b30dac8>]"
      ]
     },
     "execution_count": 21,
     "metadata": {},
     "output_type": "execute_result"
    },
    {
     "data": {
      "image/png": "[encoded data removed]",
      "text/plain": [
       "<Figure size 432x288 with 1 Axes>"
      ]
     },
     "metadata": {
      "needs_background": "light"
     },
     "output_type": "display_data"
    }
   ],
   "source": [
    "row_data0 = dd.loc[[1]].values\n",
    "print(row_data0)\n",
    "# col_data0 = dd[0]\n",
    "# col_data1 = dd[1]\n",
    "col_data1 = dd.iloc[:,1].values\n",
    "\n",
    "col_data0 = dd.iloc[:,0].values\n",
    "plt.plot(col_data0,col_data1)"
   ]
  },
  {
   "cell_type": "code",
   "execution_count": 27,
   "id": "1cf7a959",
   "metadata": {
    "scrolled": true
   },
   "outputs": [
    {
     "name": "stdout",
     "output_type": "stream",
     "text": [
      "           Star       RA2(J2000) DEC(J2000) Type  (U-B)  (B-V)       V  \\\n",
      "0    CD -34 241         00:41:47  -39:08:35    f -0.065  0.478  11.229   \n",
      "1      LTT 1020  01:54:49.700000  -27:28:29    g -0.186  0.557  11.522   \n",
      "2         EG 21  03:10:30.400000  -68:36:05   DA -0.661  0.039  11.379   \n",
      "3      LTT 1788  03:48:22.200000  -39:08:35    f -0.281  0.469  13.155   \n",
      "4      LTT 2415  05:56:24.200000  -27:51:26  ... -0.215    0.4  12.214   \n",
      "5   Hiltner 600  06:45:13.500000  +02:08:15   B1 -0.574  0.179  10.441   \n",
      "6      LTT 3218  08:41:32.400000  -32:56:33   DA -0.574   0.22  11.858   \n",
      "7      LTT 3864  10:32:13.800000  -35:37:42    f -0.167  0.495  12.171   \n",
      "8      LTT 4364  11:45:42.900000  -64:50:29   C2 -0.664  0.162  11.504   \n",
      "9      Feige 56  12:06:47.300000  +11:40:13  B5p    ...    ...     ...   \n",
      "10     LTT 4816  12:38:50.700000  -49:47:58   DA -0.656  0.166  13.794   \n",
      "11  CD -32 9927  14:11:46.300000  -33:03:15   A0    ...    ...     ...   \n",
      "12     LTT 6248  15:38:59.800000  -28:35:34    a  0.029  0.491  11.797   \n",
      "13       EG 274  16:23:33.700000  -39:13:48   DA -0.969 -0.144  11.029   \n",
      "14     LTT 7379  18:36:26.200000  -44:18:37   G0  -0.02  0.605  10.225   \n",
      "15     LTT 7987  20:10:57.100000  -30:13:03   DA  -0.67  0.046   12.23   \n",
      "16     LTT 9239  22:52:40.900000  -20:35:27    f  -0.11  0.609  12.068   \n",
      "17    Feige 110  23:19:58.300000  -05:09:56  sd0    ...    ...     ...   \n",
      "18     LTT 9491  23:19:35.200000  -17:05:28   DC -0.843  0.007  14.112   \n",
      "\n",
      "   (V-RKC) (R-I)KC  \n",
      "0    0.295   0.289  \n",
      "1    0.361   0.364  \n",
      "2   -0.093  -0.064  \n",
      "3    0.317   0.332  \n",
      "4    0.267   0.293  \n",
      "5     0.12    0.14  \n",
      "6    0.096   0.111  \n",
      "7    0.323   0.329  \n",
      "8    0.173   0.127  \n",
      "9      ...     ...  \n",
      "10   0.013   0.027  \n",
      "11     ...     ...  \n",
      "12   0.319   0.345  \n",
      "13  -0.093  -0.096  \n",
      "14   0.366   0.366  \n",
      "15  -0.062  -0.078  \n",
      "16   0.397   0.372  \n",
      "17     ...     ...  \n",
      "18   0.045   0.031  \n"
     ]
    },
    {
     "data": {
      "text/plain": [
       "[<matplotlib.lines.Line2D at 0x28f5e917f08>]"
      ]
     },
     "execution_count": 27,
     "metadata": {},
     "output_type": "execute_result"
    },
    {
     "data": {
      "image/png": "[encoded data removed]",
      "text/plain": [
       "<Figure size 432x288 with 1 Axes>"
      ]
     },
     "metadata": {
      "needs_background": "light"
     },
     "output_type": "display_data"
    }
   ],
   "source": [
    "from cal_star.sc_sp import default_sp\n",
    "import matplotlib.pyplot as plt\n",
    "starlist = 'Hamuy1992'\n",
    "star = 'CD -34 241' \n",
    "\n",
    "template_wave,template_flux = default_sp(starlist,star)\n",
    "plt.plot(template_wave,template_flux)"
   ]
  },
  {
   "cell_type": "code",
   "execution_count": 26,
   "id": "25aff57e",
   "metadata": {
    "scrolled": true
   },
   "outputs": [
    {
     "name": "stdout",
     "output_type": "stream",
     "text": [
      "           Star       RA2(J2000) DEC(J2000) Type  (U-B)  (B-V)       V  \\\n",
      "0    CD -34 241         00:41:47  -39:08:35    f -0.065  0.478  11.229   \n",
      "1      LTT 1020  01:54:49.700000  -27:28:29    g -0.186  0.557  11.522   \n",
      "2         EG 21  03:10:30.400000  -68:36:05   DA -0.661  0.039  11.379   \n",
      "3      LTT 1788  03:48:22.200000  -39:08:35    f -0.281  0.469  13.155   \n",
      "4      LTT 2415  05:56:24.200000  -27:51:26  ... -0.215    0.4  12.214   \n",
      "5   Hiltner 600  06:45:13.500000  +02:08:15   B1 -0.574  0.179  10.441   \n",
      "6      LTT 3218  08:41:32.400000  -32:56:33   DA -0.574   0.22  11.858   \n",
      "7      LTT 3864  10:32:13.800000  -35:37:42    f -0.167  0.495  12.171   \n",
      "8      LTT 4364  11:45:42.900000  -64:50:29   C2 -0.664  0.162  11.504   \n",
      "9      Feige 56  12:06:47.300000  +11:40:13  B5p    ...    ...     ...   \n",
      "10     LTT 4816  12:38:50.700000  -49:47:58   DA -0.656  0.166  13.794   \n",
      "11  CD -32 9927  14:11:46.300000  -33:03:15   A0    ...    ...     ...   \n",
      "12     LTT 6248  15:38:59.800000  -28:35:34    a  0.029  0.491  11.797   \n",
      "13       EG 274  16:23:33.700000  -39:13:48   DA -0.969 -0.144  11.029   \n",
      "14     LTT 7379  18:36:26.200000  -44:18:37   G0  -0.02  0.605  10.225   \n",
      "15     LTT 7987  20:10:57.100000  -30:13:03   DA  -0.67  0.046   12.23   \n",
      "16     LTT 9239  22:52:40.900000  -20:35:27    f  -0.11  0.609  12.068   \n",
      "17    Feige 110  23:19:58.300000  -05:09:56  sd0    ...    ...     ...   \n",
      "18     LTT 9491  23:19:35.200000  -17:05:28   DC -0.843  0.007  14.112   \n",
      "\n",
      "   (V-RKC) (R-I)KC  \n",
      "0    0.295   0.289  \n",
      "1    0.361   0.364  \n",
      "2   -0.093  -0.064  \n",
      "3    0.317   0.332  \n",
      "4    0.267   0.293  \n",
      "5     0.12    0.14  \n",
      "6    0.096   0.111  \n",
      "7    0.323   0.329  \n",
      "8    0.173   0.127  \n",
      "9      ...     ...  \n",
      "10   0.013   0.027  \n",
      "11     ...     ...  \n",
      "12   0.319   0.345  \n",
      "13  -0.093  -0.096  \n",
      "14   0.366   0.366  \n",
      "15  -0.062  -0.078  \n",
      "16   0.397   0.372  \n",
      "17     ...     ...  \n",
      "18   0.045   0.031  \n",
      "           Star       RA2(J2000) DEC(J2000) Type  (U-B)  (B-V)       V  \\\n",
      "0    CD -34 241         00:41:47  -39:08:35    f -0.065  0.478  11.229   \n",
      "1      LTT 1020  01:54:49.700000  -27:28:29    g -0.186  0.557  11.522   \n",
      "2         EG 21  03:10:30.400000  -68:36:05   DA -0.661  0.039  11.379   \n",
      "3      LTT 1788  03:48:22.200000  -39:08:35    f -0.281  0.469  13.155   \n",
      "4      LTT 2415  05:56:24.200000  -27:51:26  ... -0.215    0.4  12.214   \n",
      "5   Hiltner 600  06:45:13.500000  +02:08:15   B1 -0.574  0.179  10.441   \n",
      "6      LTT 3218  08:41:32.400000  -32:56:33   DA -0.574   0.22  11.858   \n",
      "7      LTT 3864  10:32:13.800000  -35:37:42    f -0.167  0.495  12.171   \n",
      "8      LTT 4364  11:45:42.900000  -64:50:29   C2 -0.664  0.162  11.504   \n",
      "9      Feige 56  12:06:47.300000  +11:40:13  B5p    ...    ...     ...   \n",
      "10     LTT 4816  12:38:50.700000  -49:47:58   DA -0.656  0.166  13.794   \n",
      "11  CD -32 9927  14:11:46.300000  -33:03:15   A0    ...    ...     ...   \n",
      "12     LTT 6248  15:38:59.800000  -28:35:34    a  0.029  0.491  11.797   \n",
      "13       EG 274  16:23:33.700000  -39:13:48   DA -0.969 -0.144  11.029   \n",
      "14     LTT 7379  18:36:26.200000  -44:18:37   G0  -0.02  0.605  10.225   \n",
      "15     LTT 7987  20:10:57.100000  -30:13:03   DA  -0.67  0.046   12.23   \n",
      "16     LTT 9239  22:52:40.900000  -20:35:27    f  -0.11  0.609  12.068   \n",
      "17    Feige 110  23:19:58.300000  -05:09:56  sd0    ...    ...     ...   \n",
      "18     LTT 9491  23:19:35.200000  -17:05:28   DC -0.843  0.007  14.112   \n",
      "\n",
      "   (V-RKC) (R-I)KC  \n",
      "0    0.295   0.289  \n",
      "1    0.361   0.364  \n",
      "2   -0.093  -0.064  \n",
      "3    0.317   0.332  \n",
      "4    0.267   0.293  \n",
      "5     0.12    0.14  \n",
      "6    0.096   0.111  \n",
      "7    0.323   0.329  \n",
      "8    0.173   0.127  \n",
      "9      ...     ...  \n",
      "10   0.013   0.027  \n",
      "11     ...     ...  \n",
      "12   0.319   0.345  \n",
      "13  -0.093  -0.096  \n",
      "14   0.366   0.366  \n",
      "15  -0.062  -0.078  \n",
      "16   0.397   0.372  \n",
      "17     ...     ...  \n",
      "18   0.045   0.031  \n"
     ]
    },
    {
     "data": {
      "image/png": "[encoded data removed]",
      "text/plain": [
       "<Figure size 432x288 with 1 Axes>"
      ]
     },
     "metadata": {
      "needs_background": "light"
     },
     "output_type": "display_data"
    },
    {
     "data": {
      "image/png": "[encoded data removed]",
      "text/plain": [
       "<Figure size 864x648 with 1 Axes>"
      ]
     },
     "metadata": {
      "needs_background": "light"
     },
     "output_type": "display_data"
    }
   ],
   "source": [
    "from cal_star.spec_config import shown_listinfor\n",
    "from cal_star.spec_config import radec2plot\n",
    "starlist = 'Hamuy1992'\n",
    "star = 'CD -34 241' \n",
    "\n",
    "df, spinf = shown_listinfor(starlist,star)\n",
    "print(df)\n",
    "\n",
    "cat, ram,decm = radec2plot(starlist,star)\n",
    "\n",
    "spinf.shape\n",
    "plt.figure(figsize=[12,9],num = 'position')\n",
    "\n",
    "for i in range(19):\n",
    "    plt.plot(spinf[i,0],spinf[i,1],'r*', )\n",
    "    plt.legend\n",
    "    plt.xtitle = ('ra')\n",
    "    plt.ytitle = ('dec')\n",
    "    plt.show"
   ]
  },
  {
   "cell_type": "code",
   "execution_count": null,
   "id": "330321a7",
   "metadata": {},
   "outputs": [],
   "source": []
  },
  {
   "cell_type": "code",
   "execution_count": 25,
   "id": "2462e708",
   "metadata": {},
   "outputs": [
    {
     "name": "stdout",
     "output_type": "stream",
     "text": [
      " -3\n",
      "-3.0\n"
     ]
    }
   ],
   "source": [
    "sa = ' -3'\n",
    "sai = float(sa)\n",
    "\n",
    "print(sa)\n",
    "print(sai)"
   ]
  },
  {
   "cell_type": "code",
   "execution_count": null,
   "id": "d2c49a16",
   "metadata": {},
   "outputs": [],
   "source": []
  },
  {
   "cell_type": "code",
   "execution_count": null,
   "id": "cf8f28ff",
   "metadata": {},
   "outputs": [],
   "source": []
  }
 ],
 "metadata": {
  "kernelspec": {
   "display_name": "Python 3 (ipykernel)",
   "language": "python",
   "name": "python3"
  },
  "language_info": {
   "codemirror_mode": {
    "name": "ipython",
    "version": 3
   },
   "file_extension": ".py",
   "mimetype": "text/x-python",
   "name": "python",
   "nbconvert_exporter": "python",
   "pygments_lexer": "ipython3",
   "version": "3.7.13"
  }
 },
 "nbformat": 4,
 "nbformat_minor": 5
}
