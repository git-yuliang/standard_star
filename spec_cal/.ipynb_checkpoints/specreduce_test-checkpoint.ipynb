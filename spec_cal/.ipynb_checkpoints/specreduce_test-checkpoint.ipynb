{
 "cells": [
  {
   "cell_type": "code",
   "execution_count": 1,
   "id": "055d1163",
   "metadata": {},
   "outputs": [
    {
     "ename": "ModuleNotFoundError",
     "evalue": "No module named 'specreduce'",
     "output_type": "error",
     "traceback": [
      "\u001b[1;31m---------------------------------------------------------------------------\u001b[0m",
      "\u001b[1;31mModuleNotFoundError\u001b[0m                       Traceback (most recent call last)",
      "\u001b[1;32m~\\AppData\\Local\\Temp\\ipykernel_60344\\2106205167.py\u001b[0m in \u001b[0;36m<module>\u001b[1;34m\u001b[0m\n\u001b[0;32m      1\u001b[0m \u001b[1;32mimport\u001b[0m \u001b[0mmatplotlib\u001b[0m\u001b[1;33m.\u001b[0m\u001b[0mpyplot\u001b[0m \u001b[1;32mas\u001b[0m \u001b[0mplt\u001b[0m\u001b[1;33m\u001b[0m\u001b[1;33m\u001b[0m\u001b[0m\n\u001b[1;32m----> 2\u001b[1;33m \u001b[1;32mfrom\u001b[0m \u001b[0mspecreduce\u001b[0m\u001b[1;33m.\u001b[0m\u001b[0mcalibration_data\u001b[0m \u001b[1;32mimport\u001b[0m \u001b[0mload_MAST_calspec\u001b[0m\u001b[1;33m\u001b[0m\u001b[1;33m\u001b[0m\u001b[0m\n\u001b[0m\u001b[0;32m      3\u001b[0m \u001b[1;33m\u001b[0m\u001b[0m\n",
      "\u001b[1;31mModuleNotFoundError\u001b[0m: No module named 'specreduce'"
     ]
    }
   ],
   "source": [
    "import matplotlib.pyplot as plt\n",
    "from specreduce.calibration_data import load_MAST_calspec"
   ]
  },
  {
   "cell_type": "code",
   "execution_count": null,
   "id": "3dcdf856",
   "metadata": {},
   "outputs": [],
   "source": [
    "spec = load_MAST_calspec(\"agk_81d266_stisnic_007.fits\")\n",
    "\n",
    "fig, ax = plt.subplots()\n",
    "ax.step(spec.spectral_axis, spec.flux, where=\"mid\")\n",
    "ax.set_yscale('log')\n",
    "ax.set_xlabel(f\"Wavelength ({spec.spectral_axis.unit})\")\n",
    "ax.set_ylabel(f\"Flux ({spec.flux.unit})\")\n",
    "ax.set_title(\"AGK+81 266\")\n",
    "fig.show()"
   ]
  }
 ],
 "metadata": {
  "kernelspec": {
   "display_name": "Python 3 (ipykernel)",
   "language": "python",
   "name": "python3"
  },
  "language_info": {
   "codemirror_mode": {
    "name": "ipython",
    "version": 3
   },
   "file_extension": ".py",
   "mimetype": "text/x-python",
   "name": "python",
   "nbconvert_exporter": "python",
   "pygments_lexer": "ipython3",
   "version": "3.7.13"
  }
 },
 "nbformat": 4,
 "nbformat_minor": 5
}
