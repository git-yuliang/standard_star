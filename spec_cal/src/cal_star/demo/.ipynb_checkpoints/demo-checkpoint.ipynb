{
 "cells": [
  {
   "cell_type": "code",
   "execution_count": 12,
   "id": "6e0dee5f",
   "metadata": {},
   "outputs": [
    {
     "name": "stdout",
     "output_type": "stream",
     "text": [
      "           Star       RA2(J2000) DEC(J2000) Type  (U-B)  (B-V)       V  \\\n",
      "0    CD -34 241         00:41:47  -39:08:35    f -0.065  0.478  11.229   \n",
      "1      LTT 1020  01:54:49.700000  -27:28:29    g -0.186  0.557  11.522   \n",
      "2         EG 21  03:10:30.400000  -68:36:05   DA -0.661  0.039  11.379   \n",
      "3      LTT 1788  03:48:22.200000  -39:08:35    f -0.281  0.469  13.155   \n",
      "4      LTT 2415  05:56:24.200000  -27:51:26  ... -0.215    0.4  12.214   \n",
      "5   Hiltner 600  06:45:13.500000  +02:08:15   B1 -0.574  0.179  10.441   \n",
      "6      LTT 3218  08:41:32.400000  -32:56:33   DA -0.574   0.22  11.858   \n",
      "7      LTT 3864  10:32:13.800000  -35:37:42    f -0.167  0.495  12.171   \n",
      "8      LTT 4364  11:45:42.900000  -64:50:29   C2 -0.664  0.162  11.504   \n",
      "9      Feige 56  12:06:47.300000  +11:40:13  B5p    ...    ...     ...   \n",
      "10     LTT 4816  12:38:50.700000  -49:47:58   DA -0.656  0.166  13.794   \n",
      "11  CD -32 9927  14:11:46.300000  -33:03:15   A0    ...    ...     ...   \n",
      "12     LTT 6248  15:38:59.800000  -28:35:34    a  0.029  0.491  11.797   \n",
      "13       EG 274  16:23:33.700000  -39:13:48   DA -0.969 -0.144  11.029   \n",
      "14     LTT 7379  18:36:26.200000  -44:18:37   G0  -0.02  0.605  10.225   \n",
      "15     LTT 7987  20:10:57.100000  -30:13:03   DA  -0.67  0.046   12.23   \n",
      "16     LTT 9239  22:52:40.900000  -20:35:27    f  -0.11  0.609  12.068   \n",
      "17    Feige 110  23:19:58.300000  -05:09:56  sd0    ...    ...     ...   \n",
      "18     LTT 9491  23:19:35.200000  -17:05:28   DC -0.843  0.007  14.112   \n",
      "\n",
      "   (V-RKC) (R-I)KC  \n",
      "0    0.295   0.289  \n",
      "1    0.361   0.364  \n",
      "2   -0.093  -0.064  \n",
      "3    0.317   0.332  \n",
      "4    0.267   0.293  \n",
      "5     0.12    0.14  \n",
      "6    0.096   0.111  \n",
      "7    0.323   0.329  \n",
      "8    0.173   0.127  \n",
      "9      ...     ...  \n",
      "10   0.013   0.027  \n",
      "11     ...     ...  \n",
      "12   0.319   0.345  \n",
      "13  -0.093  -0.096  \n",
      "14   0.366   0.366  \n",
      "15  -0.062  -0.078  \n",
      "16   0.397   0.372  \n",
      "17     ...     ...  \n",
      "18   0.045   0.031  \n"
     ]
    },
    {
     "data": {
      "text/plain": [
       "(19, 9)"
      ]
     },
     "execution_count": 12,
     "metadata": {},
     "output_type": "execute_result"
    }
   ],
   "source": [
    "import pandas as pd\n",
    "import matplotlib.pyplot as plt\n",
    "import os\n",
    "import numpy as np\n",
    "\n",
    "# star list database shown (eg.  'Hamuy1992' )\n",
    "# starlists = 'Hamuy1992';'Hamuy1992-Secondary',oke1990'; 'Massey1998'; 'gemini'; 'ctiocal'\n",
    "# This is the content of the current database, which will be added later！\n",
    "\n",
    "starlist = 'Hamuy1992'\n",
    "path = os.path.abspath(os.path.join(os.getcwd(), \"..\"))\n",
    "template_filename = os.path.join(path,'refdata\\starlists',starlist, starlist + '.xlsx')\n",
    "\n",
    "df=pd.read_excel(template_filename)\n",
    "\n",
    "print(df)\n",
    "df.shape"
   ]
  },
  {
   "cell_type": "code",
   "execution_count": 21,
   "id": "8b2b3afa",
   "metadata": {},
   "outputs": [
    {
     "name": "stdout",
     "output_type": "stream",
     "text": [
      "shape of the select starlist: (19, 9)\n",
      "first element of the select starlist: CD -34 241\n",
      "[['CD -34 241' datetime.time(0, 41, 47) '-39:08:35' 'f' -0.065 0.478\n",
      "  11.229 0.295 0.289]]\n",
      "['CD -34 241' 'LTT 1020' 'EG 21' 'LTT 1788' 'LTT 2415' 'Hiltner 600'\n",
      " 'LTT 3218' 'LTT 3864' 'LTT 4364' 'Feige 56' 'LTT 4816' 'CD -32 9927'\n",
      " 'LTT 6248' 'EG 274' 'LTT 7379' 'LTT 7987' 'LTT 9239' 'Feige 110'\n",
      " 'LTT 9491']\n",
      "a1 =  19\n",
      "0\n",
      "1\n",
      "2\n",
      "3\n",
      "4\n",
      "5\n",
      "6\n",
      "7\n",
      "8\n",
      "9\n",
      "10\n",
      "11\n",
      "12\n",
      "13\n",
      "14\n",
      "15\n",
      "16\n",
      "17\n",
      "18\n",
      "ba =  20\n"
     ]
    }
   ],
   "source": [
    "print('shape of the select starlist:',df.shape)\n",
    "print('first element of the select starlist:',df.iat[0,0])\n",
    "\n",
    "row_data0 = df.loc[[0]].values\n",
    "print(row_data0)\n",
    "\n",
    "col_data0 = df.iloc[:,0].values\n",
    "print(col_data0)\n",
    "\n",
    "col_data0 = df.iloc[:,0].values\n",
    "a = col_data0.shape\n",
    "import functools\n",
    "a1 = functools.reduce(lambda sub, ele: sub * 10 + ele, a)\n",
    "print('a1 = ',a1)\n",
    "for i in range(a1):\n",
    "    print(i)\n",
    "    \n",
    "b = 20\n",
    "print('ba = ',b)"
   ]
  },
  {
   "cell_type": "code",
   "execution_count": 22,
   "id": "71fbb4fd",
   "metadata": {},
   "outputs": [
    {
     "data": {
      "text/plain": [
       "0"
      ]
     },
     "execution_count": 22,
     "metadata": {},
     "output_type": "execute_result"
    }
   ],
   "source": [
    "# confirm the star information\n",
    "star = 'CD -34 241' \n",
    "col_data0 = col_data0.tolist()\n",
    "col_data0.index(star)"
   ]
  },
  {
   "cell_type": "code",
   "execution_count": 26,
   "id": "46e28087",
   "metadata": {},
   "outputs": [
    {
     "name": "stdout",
     "output_type": "stream",
     "text": [
      "+02:08:15\n"
     ]
    },
    {
     "data": {
      "text/plain": [
       "6"
      ]
     },
     "metadata": {},
     "output_type": "display_data"
    },
    {
     "data": {
      "text/plain": [
       "45"
      ]
     },
     "metadata": {},
     "output_type": "display_data"
    },
    {
     "data": {
      "text/plain": [
       "13"
      ]
     },
     "metadata": {},
     "output_type": "display_data"
    },
    {
     "data": {
      "text/plain": [
       "500000"
      ]
     },
     "metadata": {},
     "output_type": "display_data"
    },
    {
     "name": "stdout",
     "output_type": "stream",
     "text": [
      "6.753611111111111\n",
      "decm is  2.1375\n"
     ]
    },
    {
     "data": {
      "text/plain": [
       "6"
      ]
     },
     "metadata": {},
     "output_type": "display_data"
    },
    {
     "data": {
      "text/plain": [
       "45"
      ]
     },
     "metadata": {},
     "output_type": "display_data"
    },
    {
     "data": {
      "text/plain": [
       "13"
      ]
     },
     "metadata": {},
     "output_type": "display_data"
    },
    {
     "data": {
      "text/plain": [
       "500000"
      ]
     },
     "metadata": {},
     "output_type": "display_data"
    },
    {
     "name": "stdout",
     "output_type": "stream",
     "text": [
      "ram,decm is  6.753611111111111 2.1375\n"
     ]
    },
    {
     "data": {
      "text/plain": [
       "<function matplotlib.pyplot.show(*args, **kw)>"
      ]
     },
     "execution_count": 26,
     "metadata": {},
     "output_type": "execute_result"
    },
    {
     "data": {
      "image/png": "[encoded data removed]",
      "text/plain": [
       "<Figure size 864x288 with 1 Axes>"
      ]
     },
     "metadata": {
      "needs_background": "light"
     },
     "output_type": "display_data"
    }
   ],
   "source": [
    "# confirm the star position in the skymap\n",
    "i = 5\n",
    "ra = df.iat[i,1]\n",
    "dec = df.iat[i,2]\n",
    "lb =  df.iat[i,0]\n",
    "\n",
    "print(dec)\n",
    "display(ra.hour,ra.minute,ra.second,ra.microsecond)\n",
    "ram =  ra.hour + ra.minute / 60 + ra.second/3600\n",
    "print(ram)\n",
    "\n",
    "dec[7:10]\n",
    "\n",
    "deg = int(dec[0:3])\n",
    "arcm = int(dec[4:6])\n",
    "arcs = int(dec[7:10])\n",
    "decm =  deg + arcm / 60 + arcs/3600\n",
    "print('decm is ',decm)\n",
    "\n",
    "def map(ra,dec):  # t2d: time to display ra map\n",
    "    display(ra.hour,ra.minute,ra.second,ra.microsecond)\n",
    "    ram =  ra.hour + ra.minute / 60 + ra.second/3600\n",
    "    deg = int(dec[0:3])\n",
    "    arcm = int(dec[4:6])\n",
    "    arcs = int(dec[7:10])\n",
    "    decm =  deg + arcm / 60 + arcs/3600\n",
    "    return ram,decm\n",
    "\n",
    "def shown_radec(ram,dem):\n",
    "    import matplotlib.pyplot as plt\n",
    "    plt.plot(ram,decm,'r*')\n",
    "    \n",
    "    \n",
    "ram,decm =map(ra,dec)# ramap\n",
    "\n",
    "print('ram,decm is ',ram,decm)\n",
    "\n",
    "plt.figure(figsize=[12,4],num = 'position')\n",
    "plt.plot(ram,decm,'r*', )\n",
    "plt.title = (lb)\n",
    "plt.legend\n",
    "plt.xtitle = ('ra')\n",
    "plt.ytitle = ('dec')\n",
    "plt.show\n"
   ]
  },
  {
   "cell_type": "code",
   "execution_count": 48,
   "id": "734df723",
   "metadata": {},
   "outputs": [
    {
     "name": "stdout",
     "output_type": "stream",
     "text": [
      "[[3400.      12.606]]\n"
     ]
    },
    {
     "data": {
      "text/plain": [
       "Text(0, 0.5, 'flux/1e-12')"
      ]
     },
     "execution_count": 48,
     "metadata": {},
     "output_type": "execute_result"
    },
    {
     "data": {
      "image/png": "[encoded data removed]",
      "text/plain": [
       "<Figure size 432x288 with 1 Axes>"
      ]
     },
     "metadata": {
      "needs_background": "light"
     },
     "output_type": "display_data"
    }
   ],
   "source": [
    "# test to read and shown the star information in the starlist.\n",
    "\n",
    "starlist = 'Hamuy1992'\n",
    "star = 'CD -34 241' \n",
    "\n",
    "path = os.path.abspath(os.path.join(os.getcwd(), \"..\"))\n",
    "template_filename = os.path.join(path,r'refdata\\1d_sp', starlist,star+'.dat')\n",
    "dd = pd.read_csv(template_filename,sep='\\s+')\n",
    "dd.shape\n",
    "\n",
    "row_data0 = dd.loc[[1]].values\n",
    "print(row_data0)\n",
    "\n",
    "col_data1 = dd.iloc[:,1].values\n",
    "col_data0 = dd.iloc[:,0].values\n",
    "plt.figure(figsize=[6,4],num = 'star flux')\n",
    "plt.plot(col_data0,col_data1)\n",
    "plt.xlabel('wavlength/angstrom')\n",
    "plt.ylabel('flux/1e-12')"
   ]
  },
  {
   "cell_type": "code",
   "execution_count": 65,
   "id": "21d5241c",
   "metadata": {},
   "outputs": [
    {
     "name": "stdout",
     "output_type": "stream",
     "text": [
      "           Star               RA DE    Vmag    B-V    U-B    V-R    R-I  \\\n",
      "0           ---             hms dms     mag    mag    mag    mag    mag   \n",
      "1        TPHE A  00 30 09- 46 31 22  14.651  0.793   0.38  0.435  0.405   \n",
      "2        TPHE B  00 30 16- 46 27 55  12.334  0.405  0.156  0.262  0.271   \n",
      "3        TPHE C  00 30 17- 46 32 34  14.376 -0.298 -1.217 -0.148 -0.211   \n",
      "4        TPHE D  00 30 18- 46 31 11  13.118  1.551  1.871  0.849   0.81   \n",
      "..          ...                 ...     ...    ...    ...    ...    ...   \n",
      "522     115 268  23 42 30+ 00 52 11  12.494  0.634  0.077  0.366  0.348   \n",
      "523     115 420  23 42 36+ 01 05 58  11.161  0.468 -0.027  0.286  0.293   \n",
      "524     115 271  23 42 41+ 00 45 10   9.695  0.615  0.101  0.353  0.349   \n",
      "525     115 516  23 44 15+ 01 14 13  10.434  1.028  0.759  0.563  0.534   \n",
      "526  PG2349+002  23 51 53+ 00 28 17  13.277 -0.191 -0.921 -0.103 -0.116   \n",
      "\n",
      "       V-I   (o)   Nd     (e)   (e).1   (e).2   (e).3   (e).4   (e).5  \n",
      "0      mag   NaN  ---     NaN     NaN     NaN     NaN     NaN     NaN  \n",
      "1    0.841  29.0   12  0.0028  0.0046  0.0071  0.0019  0.0035  0.0032  \n",
      "2    0.535  29.0   17  0.0115  0.0026  0.0039  0.0020  0.0019  0.0035  \n",
      "3    -0.36  39.0   23  0.0022  0.0024  0.0043  0.0038  0.0133  0.0149  \n",
      "4    1.663  37.0   23  0.0033  0.0030  0.0118  0.0015  0.0023  0.0030  \n",
      "..     ...   ...  ...     ...     ...     ...     ...     ...     ...  \n",
      "522  0.714   1.0    1  0.0000  0.0000  0.0000  0.0000  0.0000  0.0000  \n",
      "523   0.58  51.0   42  0.0013  0.0011  0.0020  0.0013  0.0010  0.0015  \n",
      "524  0.701  77.0   55  0.0010  0.0010  0.0014  0.0009  0.0008  0.0011  \n",
      "525  1.098  60.0   49  0.0012  0.0010  0.0019  0.0009  0.0008  0.0010  \n",
      "526 -0.219  11.0    5  0.0063  0.0106  0.0078  0.0057  0.0078  0.0060  \n",
      "\n",
      "[527 rows x 16 columns]\n",
      "16 55 27  08 18 53 16.085277777777776 8.314722222222223\n"
     ]
    }
   ],
   "source": [
    "# test to read and shown the star information in the starlist.\n",
    "import numpy as np\n",
    "def radec2float(ra,dec):\n",
    "    h = float(ra[0:3])\n",
    "    m = float(ra[4:6])\n",
    "    s = float(ra[7:10])\n",
    "    ram =  h + m / 60 + s/3600\n",
    "    deg = float(dec[0:3])\n",
    "    arcm = float(dec[4:6])\n",
    "    arcs = float(dec[7:10])\n",
    "    decm =  deg + arcm / 60 + arcs/3600\n",
    "    return ram, decm\n",
    "\n",
    "starlist = 'Landolt1992'\n",
    "star = 'WOLF 629' \n",
    "\n",
    "path = os.path.abspath(os.path.join(os.getcwd(), \"..\"))\n",
    "template_filename = os.path.join(path, 'refdata\\Photometric',starlist, starlist + '.xlsx')\n",
    "df = pd.read_excel(template_filename)\n",
    "print(df)\n",
    "df.shape\n",
    "\n",
    "col_data0 = df.iloc[:,0].values\n",
    "a = col_data0.shape\n",
    "a1 = functools.reduce(lambda sub, ele: sub * 10 + ele, a)\n",
    "spinf = np.zeros([a1,2]) # spinf star position information\n",
    "\n",
    "rdinf = df.iat[377,1]\n",
    "\n",
    "ra = rdinf[0:8]\n",
    "dec = rdinf[9:19]\n",
    "ram,decm = radec2float(ra,dec)\n",
    "\n",
    "print(ra,dec,ram,decm)"
   ]
  },
  {
   "cell_type": "code",
   "execution_count": 58,
   "id": "1cf7a959",
   "metadata": {
    "scrolled": false
   },
   "outputs": [
    {
     "name": "stdout",
     "output_type": "stream",
     "text": [
      "           Star       RA2(J2000) DEC(J2000) Type  (U-B)  (B-V)       V  \\\n",
      "0    CD -34 241         00:41:47  -39:08:35    f -0.065  0.478  11.229   \n",
      "1      LTT 1020  01:54:49.700000  -27:28:29    g -0.186  0.557  11.522   \n",
      "2         EG 21  03:10:30.400000  -68:36:05   DA -0.661  0.039  11.379   \n",
      "3      LTT 1788  03:48:22.200000  -39:08:35    f -0.281  0.469  13.155   \n",
      "4      LTT 2415  05:56:24.200000  -27:51:26  ... -0.215    0.4  12.214   \n",
      "5   Hiltner 600  06:45:13.500000  +02:08:15   B1 -0.574  0.179  10.441   \n",
      "6      LTT 3218  08:41:32.400000  -32:56:33   DA -0.574   0.22  11.858   \n",
      "7      LTT 3864  10:32:13.800000  -35:37:42    f -0.167  0.495  12.171   \n",
      "8      LTT 4364  11:45:42.900000  -64:50:29   C2 -0.664  0.162  11.504   \n",
      "9      Feige 56  12:06:47.300000  +11:40:13  B5p    ...    ...     ...   \n",
      "10     LTT 4816  12:38:50.700000  -49:47:58   DA -0.656  0.166  13.794   \n",
      "11  CD -32 9927  14:11:46.300000  -33:03:15   A0    ...    ...     ...   \n",
      "12     LTT 6248  15:38:59.800000  -28:35:34    a  0.029  0.491  11.797   \n",
      "13       EG 274  16:23:33.700000  -39:13:48   DA -0.969 -0.144  11.029   \n",
      "14     LTT 7379  18:36:26.200000  -44:18:37   G0  -0.02  0.605  10.225   \n",
      "15     LTT 7987  20:10:57.100000  -30:13:03   DA  -0.67  0.046   12.23   \n",
      "16     LTT 9239  22:52:40.900000  -20:35:27    f  -0.11  0.609  12.068   \n",
      "17    Feige 110  23:19:58.300000  -05:09:56  sd0    ...    ...     ...   \n",
      "18     LTT 9491  23:19:35.200000  -17:05:28   DC -0.843  0.007  14.112   \n",
      "\n",
      "   (V-RKC) (R-I)KC  \n",
      "0    0.295   0.289  \n",
      "1    0.361   0.364  \n",
      "2   -0.093  -0.064  \n",
      "3    0.317   0.332  \n",
      "4    0.267   0.293  \n",
      "5     0.12    0.14  \n",
      "6    0.096   0.111  \n",
      "7    0.323   0.329  \n",
      "8    0.173   0.127  \n",
      "9      ...     ...  \n",
      "10   0.013   0.027  \n",
      "11     ...     ...  \n",
      "12   0.319   0.345  \n",
      "13  -0.093  -0.096  \n",
      "14   0.366   0.366  \n",
      "15  -0.062  -0.078  \n",
      "16   0.397   0.372  \n",
      "17     ...     ...  \n",
      "18   0.045   0.031  \n"
     ]
    },
    {
     "data": {
      "text/plain": [
       "[<matplotlib.lines.Line2D at 0x21bf4f43e48>]"
      ]
     },
     "execution_count": 58,
     "metadata": {},
     "output_type": "execute_result"
    },
    {
     "data": {
      "image/png": "[encoded data removed]",
      "text/plain": [
       "<Figure size 432x288 with 1 Axes>"
      ]
     },
     "metadata": {
      "needs_background": "light"
     },
     "output_type": "display_data"
    }
   ],
   "source": [
    "################################################################\n",
    "# test of the cal-star package:\\ you should install the package first\n",
    "# $ pip install cal-star\n",
    "################################################################\n",
    "from cal_star.sc_sp import default_sp\n",
    "import matplotlib.pyplot as plt\n",
    "starlist = 'Hamuy1992'\n",
    "star = 'CD -34 241' \n",
    "\n",
    "template_wave,template_flux = default_sp(starlist,star)\n",
    "plt.plot(template_wave,template_flux)"
   ]
  },
  {
   "cell_type": "code",
   "execution_count": 47,
   "id": "25aff57e",
   "metadata": {
    "scrolled": false
   },
   "outputs": [
    {
     "name": "stdout",
     "output_type": "stream",
     "text": [
      "           Star       RA2(J2000) DEC(J2000) Type  (U-B)  (B-V)       V  \\\n",
      "0    CD -34 241         00:41:47  -39:08:35    f -0.065  0.478  11.229   \n",
      "1      LTT 1020  01:54:49.700000  -27:28:29    g -0.186  0.557  11.522   \n",
      "2         EG 21  03:10:30.400000  -68:36:05   DA -0.661  0.039  11.379   \n",
      "3      LTT 1788  03:48:22.200000  -39:08:35    f -0.281  0.469  13.155   \n",
      "4      LTT 2415  05:56:24.200000  -27:51:26  ... -0.215    0.4  12.214   \n",
      "5   Hiltner 600  06:45:13.500000  +02:08:15   B1 -0.574  0.179  10.441   \n",
      "6      LTT 3218  08:41:32.400000  -32:56:33   DA -0.574   0.22  11.858   \n",
      "7      LTT 3864  10:32:13.800000  -35:37:42    f -0.167  0.495  12.171   \n",
      "8      LTT 4364  11:45:42.900000  -64:50:29   C2 -0.664  0.162  11.504   \n",
      "9      Feige 56  12:06:47.300000  +11:40:13  B5p    ...    ...     ...   \n",
      "10     LTT 4816  12:38:50.700000  -49:47:58   DA -0.656  0.166  13.794   \n",
      "11  CD -32 9927  14:11:46.300000  -33:03:15   A0    ...    ...     ...   \n",
      "12     LTT 6248  15:38:59.800000  -28:35:34    a  0.029  0.491  11.797   \n",
      "13       EG 274  16:23:33.700000  -39:13:48   DA -0.969 -0.144  11.029   \n",
      "14     LTT 7379  18:36:26.200000  -44:18:37   G0  -0.02  0.605  10.225   \n",
      "15     LTT 7987  20:10:57.100000  -30:13:03   DA  -0.67  0.046   12.23   \n",
      "16     LTT 9239  22:52:40.900000  -20:35:27    f  -0.11  0.609  12.068   \n",
      "17    Feige 110  23:19:58.300000  -05:09:56  sd0    ...    ...     ...   \n",
      "18     LTT 9491  23:19:35.200000  -17:05:28   DC -0.843  0.007  14.112   \n",
      "\n",
      "   (V-RKC) (R-I)KC  \n",
      "0    0.295   0.289  \n",
      "1    0.361   0.364  \n",
      "2   -0.093  -0.064  \n",
      "3    0.317   0.332  \n",
      "4    0.267   0.293  \n",
      "5     0.12    0.14  \n",
      "6    0.096   0.111  \n",
      "7    0.323   0.329  \n",
      "8    0.173   0.127  \n",
      "9      ...     ...  \n",
      "10   0.013   0.027  \n",
      "11     ...     ...  \n",
      "12   0.319   0.345  \n",
      "13  -0.093  -0.096  \n",
      "14   0.366   0.366  \n",
      "15  -0.062  -0.078  \n",
      "16   0.397   0.372  \n",
      "17     ...     ...  \n",
      "18   0.045   0.031  \n",
      "           Star       RA2(J2000) DEC(J2000) Type  (U-B)  (B-V)       V  \\\n",
      "0    CD -34 241         00:41:47  -39:08:35    f -0.065  0.478  11.229   \n",
      "1      LTT 1020  01:54:49.700000  -27:28:29    g -0.186  0.557  11.522   \n",
      "2         EG 21  03:10:30.400000  -68:36:05   DA -0.661  0.039  11.379   \n",
      "3      LTT 1788  03:48:22.200000  -39:08:35    f -0.281  0.469  13.155   \n",
      "4      LTT 2415  05:56:24.200000  -27:51:26  ... -0.215    0.4  12.214   \n",
      "5   Hiltner 600  06:45:13.500000  +02:08:15   B1 -0.574  0.179  10.441   \n",
      "6      LTT 3218  08:41:32.400000  -32:56:33   DA -0.574   0.22  11.858   \n",
      "7      LTT 3864  10:32:13.800000  -35:37:42    f -0.167  0.495  12.171   \n",
      "8      LTT 4364  11:45:42.900000  -64:50:29   C2 -0.664  0.162  11.504   \n",
      "9      Feige 56  12:06:47.300000  +11:40:13  B5p    ...    ...     ...   \n",
      "10     LTT 4816  12:38:50.700000  -49:47:58   DA -0.656  0.166  13.794   \n",
      "11  CD -32 9927  14:11:46.300000  -33:03:15   A0    ...    ...     ...   \n",
      "12     LTT 6248  15:38:59.800000  -28:35:34    a  0.029  0.491  11.797   \n",
      "13       EG 274  16:23:33.700000  -39:13:48   DA -0.969 -0.144  11.029   \n",
      "14     LTT 7379  18:36:26.200000  -44:18:37   G0  -0.02  0.605  10.225   \n",
      "15     LTT 7987  20:10:57.100000  -30:13:03   DA  -0.67  0.046   12.23   \n",
      "16     LTT 9239  22:52:40.900000  -20:35:27    f  -0.11  0.609  12.068   \n",
      "17    Feige 110  23:19:58.300000  -05:09:56  sd0    ...    ...     ...   \n",
      "18     LTT 9491  23:19:35.200000  -17:05:28   DC -0.843  0.007  14.112   \n",
      "\n",
      "   (V-RKC) (R-I)KC  \n",
      "0    0.295   0.289  \n",
      "1    0.361   0.364  \n",
      "2   -0.093  -0.064  \n",
      "3    0.317   0.332  \n",
      "4    0.267   0.293  \n",
      "5     0.12    0.14  \n",
      "6    0.096   0.111  \n",
      "7    0.323   0.329  \n",
      "8    0.173   0.127  \n",
      "9      ...     ...  \n",
      "10   0.013   0.027  \n",
      "11     ...     ...  \n",
      "12   0.319   0.345  \n",
      "13  -0.093  -0.096  \n",
      "14   0.366   0.366  \n",
      "15  -0.062  -0.078  \n",
      "16   0.397   0.372  \n",
      "17     ...     ...  \n",
      "18   0.045   0.031  \n"
     ]
    },
    {
     "data": {
      "image/png": "[encoded data removed]",
      "text/plain": [
       "<Figure size 432x288 with 1 Axes>"
      ]
     },
     "metadata": {
      "needs_background": "light"
     },
     "output_type": "display_data"
    },
    {
     "data": {
      "image/png": "[encoded data removed]",
      "text/plain": [
       "<Figure size 864x648 with 1 Axes>"
      ]
     },
     "metadata": {
      "needs_background": "light"
     },
     "output_type": "display_data"
    }
   ],
   "source": [
    "from cal_star.spec_config import shown_listinfor\n",
    "from cal_star.spec_config import radec2plot\n",
    "starlist = 'Hamuy1992'\n",
    "star = 'CD -34 241' \n",
    "\n",
    "# spinf: star position infromation(xi,yi)\n",
    "# df： starlist information\n",
    "df, spinf = shown_listinfor(starlist,star) \n",
    "print(df)\n",
    "\n",
    "# cat： starlist information\n",
    "# ram,dem, float type ra,dec information, which can be shown in the map.\n",
    "cat, ram,decm = radec2plot(starlist,star)\n",
    "\n",
    "spinf.shape\n",
    "plt.figure(figsize=[12,9],num = 'position')\n",
    "for i in range(19):\n",
    "    plt.plot(spinf[i,0],spinf[i,1],'m.', )\n",
    "    plt.legend\n",
    "    plt.xtitle = ('ra')\n",
    "    plt.ytitle = ('dec')\n",
    "    plt.show"
   ]
  },
  {
   "cell_type": "code",
   "execution_count": null,
   "id": "d2c49a16",
   "metadata": {},
   "outputs": [],
   "source": [
    "from cal_star.sc_photometry import default_photometry\n",
    "from cal_star.sc_photometry import radec2float\n",
    "starlist = 'Landolt1992'\n",
    "star = 'WOLF 629' \n",
    "\n",
    "# spinf: star position infromation(xi,yi)\n",
    "# df： starlist information\n",
    "df, spinf = shown_listinfor(starlist,star) \n",
    "print(df)\n",
    "\n",
    "spinf.shape\n",
    "plt.figure(figsize=[12,9],num = 'position')\n",
    "for i in range(19):\n",
    "    plt.plot(spinf[i,0],spinf[i,1],'m.', )\n",
    "    plt.legend\n",
    "    plt.xtitle = ('ra')\n",
    "    plt.ytitle = ('dec')\n",
    "    plt.show"
   ]
  },
  {
   "cell_type": "code",
   "execution_count": null,
   "id": "cf8f28ff",
   "metadata": {},
   "outputs": [],
   "source": []
  }
 ],
 "metadata": {
  "kernelspec": {
   "display_name": "Python 3 (ipykernel)",
   "language": "python",
   "name": "python3"
  },
  "language_info": {
   "codemirror_mode": {
    "name": "ipython",
    "version": 3
   },
   "file_extension": ".py",
   "mimetype": "text/x-python",
   "name": "python",
   "nbconvert_exporter": "python",
   "pygments_lexer": "ipython3",
   "version": "3.7.13"
  }
 },
 "nbformat": 4,
 "nbformat_minor": 5
}
